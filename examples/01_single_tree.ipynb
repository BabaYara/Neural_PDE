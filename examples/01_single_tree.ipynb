{
 "cells": [
  {
   "cell_type": "markdown",
   "metadata": {},
   "source": [
    "# Using LossSuite"
   ]
  },
  {
   "cell_type": "code",
   "execution_count": null,
   "metadata": {},
   "outputs": [],
   "source": [
    "from neural_pde.hjbcore.loss_suite import LossSuite",
    "from neural_pde.models import FBSDE",
    "import jax, jax.numpy as jnp",
    "cfg = {'dt':1e-8}",
    "loss_suite = LossSuite(cfg)",
    "model = FBSDE(jax.random.PRNGKey(0))",
    "batch = {'state': jnp.ones((1,1)), 'brownian': jnp.zeros((1,1,1))}",
    "loss_suite.total_loss(model, batch)"
   ]
  }
 ],
 "metadata": {},
 "nbformat": 4,
 "nbformat_minor": 5
}
