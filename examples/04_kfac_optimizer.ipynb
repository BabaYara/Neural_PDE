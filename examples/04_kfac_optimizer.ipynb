{
 "cells": [
  {
   "cell_type": "markdown",
   "metadata": {},
   "source": [
    "# KFAC optimizer demo"
   ]
  },
  {
   "cell_type": "code",
   "execution_count": null,
   "metadata": {},
   "outputs": [],
   "source": [
    "import jax, jax.numpy as jnp",
    "from kfacpinn.nets.mlp import init_mlp, mlp",
    "from kfacpinn.training_loop import Trainer"
   ]
  },
  {
   "cell_type": "code",
   "execution_count": null,
   "metadata": {},
   "outputs": [],
   "source": [
    "key = jax.random.PRNGKey(0)",
    "params = init_mlp([1, 4, 1], key)",
    "class Model:\n    def __init__(self, params):\n        self.params = params\n    def __call__(self, x):\n        return mlp(self.params, x)",
    "model = Model(params)",
    "batch = {\"state\": jnp.ones((2, 1)), \"brownian\": jnp.zeros((2, 2, 1))}",
    "trainer = Trainer(model, cfg={}, use_kfac=True)",
    "trainer.fit(batch, num_steps=1)"
   ]
  }
 ],
 "metadata": {
  "kernelspec": {
   "display_name": "Python 3",
   "language": "python",
   "name": "python3"
  },
  "language_info": {
   "name": "python",
   "version": "3.11"
  }
 },
 "nbformat": 4,
 "nbformat_minor": 5
}
