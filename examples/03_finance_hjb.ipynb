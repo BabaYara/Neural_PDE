{
 "cells": [
  {
   "cell_type": "markdown",
   "metadata": {},
   "source": [
    "# Finance HJB loss example"
   ]
  },
  {
   "cell_type": "code",
   "execution_count": null,
   "metadata": {},
   "outputs": [],
   "source": [
    "from neural_pde.hjbcore.loss.finance_hjb_losses import finance_hjb_loss",
    "from neural_pde.models import FBSDE",
    "import jax, jax.numpy as jnp",
    "model = FBSDE(jax.random.PRNGKey(0))",
    "batch = {'state': jnp.ones((1,1)), 'brownian': jnp.zeros((1,1,1))}",
    "finance_hjb_loss(model, batch)"
   ]
  }
 ],
 "metadata": {
  "kernelspec": {
   "display_name": "Python 3",
   "language": "python",
   "name": "python3"
  },
  "language_info": {
   "name": "python",
   "version": "3.10"
  }
 },
 "nbformat": 4,
 "nbformat_minor": 5
}
